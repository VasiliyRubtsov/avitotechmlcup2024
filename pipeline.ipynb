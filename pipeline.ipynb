{
 "cells": [
  {
   "cell_type": "code",
   "execution_count": 1,
   "id": "83252e22-b711-4fec-a21d-6cc4de878ef2",
   "metadata": {},
   "outputs": [],
   "source": [
    "# !pip install \\\n",
    "#     --extra-index-url=https://pypi.nvidia.com \\\n",
    "#     \"cudf-cu12==24.10.*\" \"dask-cudf-cu12==24.10.*\" \"cuml-cu12==24.10.*\" \\\n",
    "#     \"cugraph-cu12==24.10.*\" \"nx-cugraph-cu12==24.10.*\" \"cuspatial-cu12==24.10.*\" \\\n",
    "#     \"cuproj-cu12==24.10.*\" \"cuxfilter-cu12==24.10.*\" \"cucim-cu12==24.10.*\" \\\n",
    "#     \"pylibraft-cu12==24.10.*\" \"raft-dask-cu12==24.10.*\" \"cuvs-cu12==24.10.*\" \\\n",
    "#     \"nx-cugraph-cu12==24.10.*\" \n",
    "# !pip install catboost\n",
    "# !pip install numpy"
   ]
  },
  {
   "cell_type": "code",
   "execution_count": 1,
   "id": "27e57739-0180-42e9-84ac-7ea373cc4c87",
   "metadata": {},
   "outputs": [],
   "source": [
    "# !wget https://storage.yandexcloud.net/ds-ods/files/files/0d7b7c0f/test.parquet -O test.parquet\n",
    "# !wget https://storage.yandexcloud.net/ds-ods/files/data/docs/competitions/AvitoTechMLcup2024/data/train.parquet -O train.parquet\n",
    "# !wget https://storage.yandexcloud.net/ds-ods/files/files/fe98ae56/campaigns_meta.parquet -O campaigns_meta.parquet"
   ]
  },
  {
   "cell_type": "code",
   "execution_count": 1,
   "id": "e530a514-82f2-481d-86db-64cb29ab44ce",
   "metadata": {},
   "outputs": [],
   "source": [
    "from itertools import combinations\n",
    "\n",
    "import cudf\n",
    "import catboost\n",
    "import pandas as pd\n",
    "import torch\n",
    "\n",
    "from nn_predictions import get_nn_predictions_mean"
   ]
  },
  {
   "cell_type": "code",
   "execution_count": 2,
   "id": "7a7db15e-3309-4bf6-bd9e-7ecc02cb89bf",
   "metadata": {},
   "outputs": [
    {
     "data": {
      "text/plain": [
       "('24.10.01', '1.2.7', '2.2.2', '2.2.0')"
      ]
     },
     "execution_count": 2,
     "metadata": {},
     "output_type": "execute_result"
    }
   ],
   "source": [
    "cudf.__version__, catboost.__version__, pd.__version__, torch.__version__"
   ]
  },
  {
   "cell_type": "code",
   "execution_count": 3,
   "id": "8106102f-e2dc-45c5-9ccd-59a922838445",
   "metadata": {},
   "outputs": [],
   "source": [
    "def preprocess():\n",
    "    data = cudf.read_parquet('train.parquet')\n",
    "\n",
    "    data['user_id'] = data['user_id'].astype('int32')\n",
    "    data['adv_campaign_id']  = data['adv_campaign_id'].astype('int16')\n",
    "    data['adv_creative_id']  = data['adv_creative_id'].astype('int16')\n",
    "    data['platform_id']  = data['platform_id'].astype('int8')\n",
    "    data['banner_code']  = data['banner_code'].astype('int8')\n",
    "    data['target'] = data['target'].astype('int8')\n",
    "\n",
    "    start_date = data['event_date'].min()\n",
    "    data['event_date'] = (data['event_date'] - start_date).dt.days.astype('int8')\n",
    "\n",
    "    data.to_parquet('train_processed.parquet')\n",
    "\n",
    "    meta = cudf.read_parquet('campaigns_meta.parquet')\n",
    "\n",
    "    meta['start_date'] = (meta['start_date'] - start_date).dt.days.astype('int8')\n",
    "    meta['end_date'] = (meta['end_date'] - start_date).dt.days.astype('int8')\n",
    "\n",
    "    meta['location_id'] = meta['location_id'].astype('int8')\n",
    "    meta['logcat_id'] = meta['logcat_id'].astype('int8')\n",
    "\n",
    "    meta.to_parquet('meta.parquet')"
   ]
  },
  {
   "cell_type": "code",
   "execution_count": null,
   "id": "156958b1",
   "metadata": {},
   "outputs": [],
   "source": [
    "preprocess()"
   ]
  },
  {
   "cell_type": "code",
   "execution_count": 4,
   "id": "bcbde267-1b74-422d-8257-3591c68332fc",
   "metadata": {},
   "outputs": [],
   "source": [
    "data = cudf.read_parquet('train_processed.parquet')\n",
    "test = cudf.read_parquet('test.parquet')\n",
    "meta = cudf.read_parquet('meta.parquet')\n",
    "\n",
    "meta['campaign_duration'] = meta['end_date'] - meta['start_date']\n",
    "meta['budget'] = (meta['goal_budget'] / meta['goal_cost']).astype('float32')\n",
    "\n",
    "data = data.merge(\n",
    "    meta[['adv_campaign_id', 'location_id', 'logcat_id', 'campaign_duration', 'budget']], \n",
    "    on='adv_campaign_id',\n",
    "    how='left',\n",
    ")\n",
    "test = test.merge(\n",
    "    meta[['adv_campaign_id', 'location_id', 'logcat_id', 'campaign_duration', 'budget']], \n",
    "    on='adv_campaign_id',\n",
    "    how='left',\n",
    ")"
   ]
  },
  {
   "cell_type": "code",
   "execution_count": 5,
   "id": "ef9fd5d2-160a-4545-bcbf-53e802b03505",
   "metadata": {},
   "outputs": [],
   "source": [
    "def get_users_mask(data):\n",
    "    user_num_targets = data.groupby('user_id')['target'].nunique()\n",
    "    return data['user_id'].isin(\n",
    "        user_num_targets[user_num_targets == 2].index\n",
    "    )\n",
    "\n",
    "def split_data(data, offset):\n",
    "    df_date = data['event_date'].unique().sort_values().to_pandas().values[-(offset + 1)]\n",
    "    df_history = data[data['event_date'] < df_date]\n",
    "    df = data[data['event_date'] == df_date]\n",
    "    df_history['user_id'] = df_history['user_id'] * 10 + offset\n",
    "    df['user_id'] = df['user_id'] * 10 + offset\n",
    "    df = df[get_users_mask(df)]\n",
    "    df = df.sort_values(['user_id', 'adv_campaign_id'])\n",
    "    return df_history, df"
   ]
  },
  {
   "cell_type": "code",
   "execution_count": 12,
   "id": "67a2c391-03ee-4b3e-843a-d2ac140d0295",
   "metadata": {},
   "outputs": [],
   "source": [
    "def _get_group(ser1, ser2):\n",
    "    coef = {\n",
    "        'user_id': 10 ** 8,\n",
    "        'banner_code': 10,\n",
    "        'is_main': 10,\n",
    "        'location_id': 100,\n",
    "        'logcat_id': 100,\n",
    "        'platform_id': 10,\n",
    "        'adv_campaign_id': 10 ** 4,\n",
    "        'adv_creative_id': 10 ** 4,\n",
    "    }.get(ser2.name, 10 ** 8)\n",
    "    return ser1.astype('int64') * coef + ser2\n",
    "\n",
    "def get_group(df, cols):\n",
    "    if len(cols) == 1:\n",
    "        return df[cols[0]]\n",
    "    return _get_group(df[cols[0]], get_group(df, cols[1:]))\n",
    "\n",
    "\n",
    "def create_mappings(df, cols):\n",
    "    df = df[get_users_mask(df)]\n",
    "\n",
    "    pos_df = df[df['target'] == 1]\n",
    "    neg_df = df[df['target'] == 0]\n",
    "    \n",
    "    user_pos_counts = pos_df['user_id'].value_counts()\n",
    "    user_neg_counts = neg_df['user_id'].value_counts()\n",
    "    \n",
    "    pos_df['counts'] = pos_df['user_id'].map(user_neg_counts)\n",
    "    neg_df['counts'] = neg_df['user_id'].map(user_pos_counts)\n",
    "\n",
    "    result = {}\n",
    "    for col in cols:\n",
    "        pos_mapping = pos_df.groupby(col)['counts'].sum()\n",
    "        neg_mapping = neg_df.groupby(col)['counts'].sum()\n",
    "        result[col] = (pos_mapping, neg_mapping)\n",
    "    return result\n",
    "\n",
    "def create_features(df_history, df):\n",
    "    \n",
    "    features = df[['adv_campaign_id', 'adv_creative_id', 'banner_code', \n",
    "                   'location_id', 'logcat_id', 'campaign_duration', 'budget']]\n",
    "    target_columns = ['user_id', 'adv_campaign_id', 'adv_creative_id', \n",
    "                      'banner_code', 'location_id', 'logcat_id']\n",
    "\n",
    "    for r in [1, 2, 3]:\n",
    "        for cols in combinations(target_columns, r=r):\n",
    "\n",
    "            group_history = get_group(df_history, cols)\n",
    "            group = get_group(df, cols)\n",
    "            \n",
    "            col_mean = df_history.groupby(group_history)['target'].mean().astype('float32')\n",
    "            features[f\"{'_'.join(cols)}_mean\"] = group.map(col_mean).fillna(-1)\n",
    "            \n",
    "            if 'user_id' not in cols:\n",
    "                col_counts = group.value_counts(normalize=True).astype('float32')\n",
    "                features[f\"{'_'.join(cols)}_counts\"] = group.map(col_counts).fillna(0)\n",
    "                last_day_mask = df_history['event_date'] == df_history['event_date'].max()\n",
    "                group_history = get_group(df_history[last_day_mask], cols)\n",
    "                col_counts = group_history.value_counts(normalize=True).astype('float32')\n",
    "                features[f\"{'_'.join(cols)}_counts_2\"] = group.map(col_counts).fillna(0)\n",
    "                features[f\"{'_'.join(cols)}_counts_3\"] = (\n",
    "                    features[f\"{'_'.join(cols)}_counts\"] / features[f\"{'_'.join(cols)}_counts_2\"]\n",
    "                )\n",
    "\n",
    "\n",
    "    for col1, col2 in combinations(target_columns, r=2):\n",
    "        nunique = df_history.groupby(col1)[col2].nunique() / df_history[col1].value_counts().astype('float32')\n",
    "        features[f'{col1}_{col2}_nunique'] = df[col1].map(nunique).fillna(-1)\n",
    "\n",
    "    target_columns = ['user_id', 'adv_campaign_id', 'adv_creative_id', 'banner_code']\n",
    "    for r1 in [1, 2]:\n",
    "        for cols1 in combinations(target_columns, r=r1):\n",
    "            for r2 in [1, 2]:\n",
    "                for cols2 in combinations(target_columns, r=r2):\n",
    "                    if cols1 != cols2:\n",
    "                        group_history1 = get_group(df_history, cols1)\n",
    "                        group_history2 = get_group(df_history, cols2)\n",
    "                        group2 = get_group(df, cols2)\n",
    "                        nunique = group_history1.groupby(group_history2).nunique()\n",
    "                        features[f\"{'_'.join(cols1)}__{'_'.join(cols2)}_nunique\"] = group2.map(nunique).fillna(0)\n",
    "                        last_day_mask = df_history['event_date'] == df_history['event_date'].max()\n",
    "                        group_history1 = get_group(df_history[last_day_mask], cols1)\n",
    "                        group_history2 = get_group(df_history[last_day_mask], cols2)\n",
    "                        nunique = group_history1.groupby(group_history2).nunique()\n",
    "                        features[f\"{'_'.join(cols1)}__{'_'.join(cols2)}_nunique2\"] = group2.map(nunique).fillna(0)\n",
    "\n",
    "    cols = ['adv_campaign_id', 'banner_code']\n",
    "    mappings = create_mappings(df_history, cols)\n",
    "    for col in cols:\n",
    "        pos_stat, neg_stat = mappings[col]\n",
    "        pos = df[col].map(pos_stat).fillna(0).astype('float32')\n",
    "        neg = df[col].map(neg_stat).fillna(0).astype('float32')\n",
    "        features[f'pos_neg_stat_{col}'] = pos / (pos + neg)\n",
    "        features[f'pos_count_{col}'] = pos\n",
    "\n",
    "    features['nn_predict'] = get_nn_predictions_mean(df_history, df)\n",
    "\n",
    "    return features.to_pandas()"
   ]
  },
  {
   "cell_type": "code",
   "execution_count": null,
   "id": "2d8c5fdb-8ccc-4e93-af75-94654a0a0882",
   "metadata": {},
   "outputs": [],
   "source": [
    "%%time\n",
    "all_trains = []\n",
    "all_train_features = []\n",
    "for offset in range(8):\n",
    "    train_history, train = split_data(data, offset=offset)\n",
    "    train_features = create_features(train_history, train)\n",
    "    all_trains.append(train.to_pandas())\n",
    "    all_train_features.append(train_features)\n",
    "\n",
    "train_features = pd.concat(all_train_features)\n",
    "train = pd.concat(all_trains)"
   ]
  },
  {
   "cell_type": "code",
   "execution_count": null,
   "id": "b86118b0-fad0-4e77-934d-234f3af083d1",
   "metadata": {},
   "outputs": [],
   "source": [
    "test_features = create_features(data, test)"
   ]
  },
  {
   "cell_type": "code",
   "execution_count": null,
   "id": "1aa897be-39c0-439e-bafd-724f3bd4e9f5",
   "metadata": {},
   "outputs": [],
   "source": [
    "train_pool = catboost.Pool(\n",
    "    data=train_features, \n",
    "    label=train['target'],\n",
    "    group_id=train['user_id'],\n",
    ")\n",
    "test_pool = catboost.Pool(\n",
    "    data=test_features,\n",
    ")"
   ]
  },
  {
   "cell_type": "code",
   "execution_count": null,
   "id": "e9610d63-4bbe-46fc-bb54-134b240a11fd",
   "metadata": {
    "scrolled": true
   },
   "outputs": [],
   "source": [
    "params = {\n",
    "    'iterations': 20000,\n",
    "    'depth': 6,\n",
    "    'learning_rate': 0.05,\n",
    "    'loss_function': 'YetiRank',\n",
    "    'task_type': 'GPU', \n",
    "    'devices': '0',\n",
    "}\n",
    "model = catboost.train(\n",
    "    params=params, \n",
    "    pool=train_pool,\n",
    "    verbose_eval=100, \n",
    ")"
   ]
  },
  {
   "cell_type": "code",
   "execution_count": null,
   "id": "0c4f220a-e779-49c1-ab41-3903d4a4c774",
   "metadata": {},
   "outputs": [],
   "source": [
    "test['predict'] = model.predict(test_pool)\n",
    "test[['user_id', 'adv_campaign_id', 'predict']].to_csv('submission.csv', index=False)"
   ]
  },
  {
   "cell_type": "code",
   "execution_count": null,
   "id": "c912b295-54eb-4b01-9a1a-7692fa00a044",
   "metadata": {},
   "outputs": [],
   "source": []
  }
 ],
 "metadata": {
  "kernelspec": {
   "display_name": "Python 3 (ipykernel)",
   "language": "python",
   "name": "python3"
  },
  "language_info": {
   "codemirror_mode": {
    "name": "ipython",
    "version": 3
   },
   "file_extension": ".py",
   "mimetype": "text/x-python",
   "name": "python",
   "nbconvert_exporter": "python",
   "pygments_lexer": "ipython3",
   "version": "3.9.20"
  }
 },
 "nbformat": 4,
 "nbformat_minor": 5
}
